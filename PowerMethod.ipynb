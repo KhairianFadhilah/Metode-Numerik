{
 "cells": [
  {
   "cell_type": "code",
   "execution_count": 39,
   "metadata": {},
   "outputs": [],
   "source": [
    "import numpy as np"
   ]
  },
  {
   "cell_type": "markdown",
   "metadata": {},
   "source": [
    "Array"
   ]
  },
  {
   "cell_type": "code",
   "execution_count": 27,
   "metadata": {},
   "outputs": [],
   "source": [
    "A = np.array(\n",
    "    [[1,9,8],\n",
    "     [2,7,6],\n",
    "     [7,20,9]])\n",
    "\n",
    "x = np.array([4,2,-8])"
   ]
  },
  {
   "cell_type": "markdown",
   "metadata": {},
   "source": [
    "Mencari Eigen Value dan Eigen Vector"
   ]
  },
  {
   "cell_type": "code",
   "execution_count": 11,
   "metadata": {},
   "outputs": [
    {
     "data": {
      "text/plain": [
       "EigResult(eigenvalues=array([22.32558765, -0.87573002, -4.44985763]), eigenvectors=array([[-0.46017333, -0.84332165, -0.62115879],\n",
       "       [-0.37509519,  0.44438763, -0.27588126],\n",
       "       [-0.80470125, -0.30220562,  0.73351979]]))"
      ]
     },
     "execution_count": 11,
     "metadata": {},
     "output_type": "execute_result"
    }
   ],
   "source": [
    "np.linalg.eig(A)"
   ]
  },
  {
   "cell_type": "markdown",
   "metadata": {},
   "source": [
    "Eigen Value terbesar dan vektornya"
   ]
  },
  {
   "cell_type": "code",
   "execution_count": 12,
   "metadata": {},
   "outputs": [
    {
     "name": "stdout",
     "output_type": "stream",
     "text": [
      "22.3255876514531 [-0.46017333 -0.37509519 -0.80470125]\n"
     ]
    }
   ],
   "source": [
    "E, V = np.linalg.eig(A)\n",
    "print(E[0], V[:,0])"
   ]
  },
  {
   "cell_type": "markdown",
   "metadata": {},
   "source": [
    "Metode Power"
   ]
  },
  {
   "cell_type": "code",
   "execution_count": 42,
   "metadata": {},
   "outputs": [
    {
     "name": "stdout",
     "output_type": "stream",
     "text": [
      "49.558046773455466 [-0.84749103 -0.5246373  -0.08071343]\n",
      "19.158434242021535 [-0.32439677 -0.30543852 -0.89525083]\n",
      "21.011661702390843 [-0.48712711 -0.3882781  -0.7822706 ]\n",
      "22.516527253707686 [-0.45476795 -0.37242975 -0.80900074]\n",
      "22.284328788073974 [-0.46124977 -0.37562489 -0.80383741]\n",
      "22.333684243756068 [-0.45995873 -0.37498955 -0.80487316]\n",
      "22.323968911925764 [-0.4602161  -0.37511624 -0.80466698]\n",
      "22.325910091721582 [-0.46016481 -0.37509099 -0.80470808]\n",
      "22.325523375976115 [-0.46017503 -0.37509602 -0.80469989]\n",
      "22.32560046229768 [-0.46017299 -0.37509502 -0.80470152]\n"
     ]
    }
   ],
   "source": [
    "A = np.array(\n",
    "    [[1,9,8],\n",
    "     [2,7,6],\n",
    "     [7,20,9]])\n",
    "\n",
    "x = np.array([4,2,-8])\n",
    "\n",
    "max_iterations = 10\n",
    "for i in range (max_iterations):\n",
    "    x = np.dot(A,x)\n",
    "    #eigenValue = max(abs(x))\n",
    "    eigenValue = np.linalg.norm(x)\n",
    "    x = x/eigenValue\n",
    "    print(eigenValue, x)"
   ]
  },
  {
   "cell_type": "markdown",
   "metadata": {},
   "source": [
    "Relative error"
   ]
  },
  {
   "cell_type": "code",
   "execution_count": 44,
   "metadata": {},
   "outputs": [],
   "source": [
    "def relativeError(xnew, xold):\n",
    "    return abs((xnew-xold)/xnew)*100"
   ]
  },
  {
   "cell_type": "code",
   "execution_count": 47,
   "metadata": {},
   "outputs": [],
   "source": [
    "import pandas as pd"
   ]
  },
  {
   "cell_type": "code",
   "execution_count": 48,
   "metadata": {},
   "outputs": [
    {
     "data": {
      "text/html": [
       "<div>\n",
       "<style scoped>\n",
       "    .dataframe tbody tr th:only-of-type {\n",
       "        vertical-align: middle;\n",
       "    }\n",
       "\n",
       "    .dataframe tbody tr th {\n",
       "        vertical-align: top;\n",
       "    }\n",
       "\n",
       "    .dataframe thead th {\n",
       "        text-align: right;\n",
       "    }\n",
       "</style>\n",
       "<table border=\"1\" class=\"dataframe\">\n",
       "  <thead>\n",
       "    <tr style=\"text-align: right;\">\n",
       "      <th></th>\n",
       "      <th>eigenValue</th>\n",
       "      <th>error</th>\n",
       "    </tr>\n",
       "  </thead>\n",
       "  <tbody>\n",
       "    <tr>\n",
       "      <th>0</th>\n",
       "      <td>49.558047</td>\n",
       "      <td>100.000000</td>\n",
       "    </tr>\n",
       "    <tr>\n",
       "      <th>1</th>\n",
       "      <td>19.158434</td>\n",
       "      <td>158.674828</td>\n",
       "    </tr>\n",
       "    <tr>\n",
       "      <th>2</th>\n",
       "      <td>21.011662</td>\n",
       "      <td>8.819995</td>\n",
       "    </tr>\n",
       "    <tr>\n",
       "      <th>3</th>\n",
       "      <td>22.516527</td>\n",
       "      <td>6.683382</td>\n",
       "    </tr>\n",
       "    <tr>\n",
       "      <th>4</th>\n",
       "      <td>22.284329</td>\n",
       "      <td>1.041981</td>\n",
       "    </tr>\n",
       "    <tr>\n",
       "      <th>5</th>\n",
       "      <td>22.333684</td>\n",
       "      <td>0.220991</td>\n",
       "    </tr>\n",
       "    <tr>\n",
       "      <th>6</th>\n",
       "      <td>22.323969</td>\n",
       "      <td>0.043520</td>\n",
       "    </tr>\n",
       "    <tr>\n",
       "      <th>7</th>\n",
       "      <td>22.325910</td>\n",
       "      <td>0.008695</td>\n",
       "    </tr>\n",
       "    <tr>\n",
       "      <th>8</th>\n",
       "      <td>22.325523</td>\n",
       "      <td>0.001732</td>\n",
       "    </tr>\n",
       "    <tr>\n",
       "      <th>9</th>\n",
       "      <td>22.325600</td>\n",
       "      <td>0.000345</td>\n",
       "    </tr>\n",
       "  </tbody>\n",
       "</table>\n",
       "</div>"
      ],
      "text/plain": [
       "   eigenValue       error\n",
       "0   49.558047  100.000000\n",
       "1   19.158434  158.674828\n",
       "2   21.011662    8.819995\n",
       "3   22.516527    6.683382\n",
       "4   22.284329    1.041981\n",
       "5   22.333684    0.220991\n",
       "6   22.323969    0.043520\n",
       "7   22.325910    0.008695\n",
       "8   22.325523    0.001732\n",
       "9   22.325600    0.000345"
      ]
     },
     "execution_count": 48,
     "metadata": {},
     "output_type": "execute_result"
    }
   ],
   "source": [
    "result = pd.DataFrame(columns=['eigenValue', 'error'])\n",
    "\n",
    "A = np.array(\n",
    "    [[1,9,8],\n",
    "     [2,7,6],\n",
    "     [7,20,9]])\n",
    "\n",
    "x = np.array([4,2,-8])\n",
    "\n",
    "max_iterations = 10\n",
    "oldEigenValue = 0\n",
    "for i in range (max_iterations):\n",
    "    x = np.dot(A,x)\n",
    "    #eigenValue = max(abs(x))\n",
    "    eigenValue = np.linalg.norm(x)\n",
    "    error = relativeError(eigenValue, oldEigenValue)\n",
    "    x = x/eigenValue\n",
    "    result.loc[i] = [eigenValue, error]\n",
    "    oldEigenValue = eigenValue\n",
    "result"
   ]
  },
  {
   "cell_type": "code",
   "execution_count": 49,
   "metadata": {},
   "outputs": [
    {
     "data": {
      "text/html": [
       "<div>\n",
       "<style scoped>\n",
       "    .dataframe tbody tr th:only-of-type {\n",
       "        vertical-align: middle;\n",
       "    }\n",
       "\n",
       "    .dataframe tbody tr th {\n",
       "        vertical-align: top;\n",
       "    }\n",
       "\n",
       "    .dataframe thead th {\n",
       "        text-align: right;\n",
       "    }\n",
       "</style>\n",
       "<table border=\"1\" class=\"dataframe\">\n",
       "  <thead>\n",
       "    <tr style=\"text-align: right;\">\n",
       "      <th></th>\n",
       "      <th>eigenValue</th>\n",
       "      <th>error</th>\n",
       "    </tr>\n",
       "  </thead>\n",
       "  <tbody>\n",
       "    <tr>\n",
       "      <th>0</th>\n",
       "      <td>49.558047</td>\n",
       "      <td>100.000000</td>\n",
       "    </tr>\n",
       "    <tr>\n",
       "      <th>1</th>\n",
       "      <td>19.158434</td>\n",
       "      <td>158.674828</td>\n",
       "    </tr>\n",
       "    <tr>\n",
       "      <th>2</th>\n",
       "      <td>21.011662</td>\n",
       "      <td>8.819995</td>\n",
       "    </tr>\n",
       "    <tr>\n",
       "      <th>3</th>\n",
       "      <td>22.516527</td>\n",
       "      <td>6.683382</td>\n",
       "    </tr>\n",
       "    <tr>\n",
       "      <th>4</th>\n",
       "      <td>22.284329</td>\n",
       "      <td>1.041981</td>\n",
       "    </tr>\n",
       "    <tr>\n",
       "      <th>5</th>\n",
       "      <td>22.333684</td>\n",
       "      <td>0.220991</td>\n",
       "    </tr>\n",
       "  </tbody>\n",
       "</table>\n",
       "</div>"
      ],
      "text/plain": [
       "   eigenValue       error\n",
       "0   49.558047  100.000000\n",
       "1   19.158434  158.674828\n",
       "2   21.011662    8.819995\n",
       "3   22.516527    6.683382\n",
       "4   22.284329    1.041981\n",
       "5   22.333684    0.220991"
      ]
     },
     "execution_count": 49,
     "metadata": {},
     "output_type": "execute_result"
    }
   ],
   "source": [
    "result = pd.DataFrame(columns=['eigenValue', 'error'])\n",
    "\n",
    "A = np.array(\n",
    "    [[1,9,8],\n",
    "     [2,7,6],\n",
    "     [7,20,9]])\n",
    "\n",
    "x = np.array([4,2,-8])\n",
    "\n",
    "error_tolerance = 0.5\n",
    "max_iterations = 10\n",
    "oldEigenValue = 0\n",
    "for i in range (max_iterations):\n",
    "    x = np.dot(A,x)\n",
    "    #eigenValue = max(abs(x))\n",
    "    eigenValue = np.linalg.norm(x)\n",
    "    error = relativeError(eigenValue, oldEigenValue)\n",
    "    x = x/eigenValue\n",
    "    result.loc[i] = [eigenValue, error]\n",
    "    if error_tolerance > error:\n",
    "        break\n",
    "    oldEigenValue = eigenValue\n",
    "result"
   ]
  }
 ],
 "metadata": {
  "kernelspec": {
   "display_name": "Python 3",
   "language": "python",
   "name": "python3"
  },
  "language_info": {
   "codemirror_mode": {
    "name": "ipython",
    "version": 3
   },
   "file_extension": ".py",
   "mimetype": "text/x-python",
   "name": "python",
   "nbconvert_exporter": "python",
   "pygments_lexer": "ipython3",
   "version": "3.12.2"
  }
 },
 "nbformat": 4,
 "nbformat_minor": 2
}
